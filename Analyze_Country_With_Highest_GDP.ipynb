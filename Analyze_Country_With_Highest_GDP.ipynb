{
 "cells": [
  {
   "cell_type": "code",
   "execution_count": null,
   "id": "77d301ae",
   "metadata": {},
   "outputs": [],
   "source": [
    "#Analyze Country with highest GDP "
   ]
  },
  {
   "cell_type": "code",
   "execution_count": 1,
   "id": "7571bede",
   "metadata": {},
   "outputs": [],
   "source": [
    "import numpy as np"
   ]
  },
  {
   "cell_type": "code",
   "execution_count": 2,
   "id": "25a218dd",
   "metadata": {},
   "outputs": [],
   "source": [
    "countries=np.array(['Algeria','Angola','Argentina','Australia','Austria','Bahamas','Bangladesh','Belarus','Belgium','Bhutan','Brazil','Bulgaria','Cambodia','Cameroon','Chile','China','Colombia','Cyprus','Denmark','El Salvador','Estonia','Ethiopia','Fiji','Finland','France','Georgia','Ghana','Grenada','Guinea','Haiti','Honduras','Hungary','India','Indonesia','Ireland','Italy','Japan','Kenya', 'South Korea','Liberia','Malaysia','Mexico', 'Morocco','Nepal','New Zealand','Norway','Pakistan', 'Peru','Qatar','Russia','Singapore','South Africa','Spain','Sweden','Switzerland','Thailand', 'United Arab Emirates','United Kingdom','United States','Uruguay','Venezuela','Vietnam','Zimbabwe'])"
   ]
  },
  {
   "cell_type": "code",
   "execution_count": 3,
   "id": "194fe29d",
   "metadata": {},
   "outputs": [],
   "source": [
    "gdp=np.array([2255.225482,629.9553062,11601.63022,25306.82494,27266.40335,19466.99052,588.3691778,2890.345675,24733.62696,1445.760002,4803.398244,2618.876037,590.4521124,665.7982328,7122.938458,2639.54156,3362.4656,15378.16704,30860.12808,2579.115607,6525.541272,229.6769525,2242.689259,27570.4852,23016.84778,1334.646773,402.6953275,6047.200797,394.1156638,385.5793827,1414.072488,5745.981529,837.7464011,1206.991065,27715.52837,18937.24998,39578.07441,478.2194906,16684.21278,279.2204061,5345.213415,6288.25324,1908.304416,274.8728621,14646.42094,40034.85063,672.1547506,3359.517402,36152.66676,3054.727742,33529.83052,3825.093781,15428.32098,33630.24604,39170.41371,2699.123242,21058.43643,28272.40661,37691.02733,9581.05659,5671.912202,757.4009286,347.7456605\n",
    "])"
   ]
  },
  {
   "cell_type": "code",
   "execution_count": 4,
   "id": "55757600",
   "metadata": {},
   "outputs": [],
   "source": [
    "max_gdp=gdp.argmax()"
   ]
  },
  {
   "cell_type": "code",
   "execution_count": 5,
   "id": "196f342d",
   "metadata": {},
   "outputs": [],
   "source": [
    "country_max_gdp=countries[max_gdp]"
   ]
  },
  {
   "cell_type": "code",
   "execution_count": 6,
   "id": "89fc3efb",
   "metadata": {},
   "outputs": [
    {
     "data": {
      "text/plain": [
       "'Norway'"
      ]
     },
     "execution_count": 6,
     "metadata": {},
     "output_type": "execute_result"
    }
   ],
   "source": [
    "country_max_gdp"
   ]
  },
  {
   "cell_type": "code",
   "execution_count": 7,
   "id": "d2dfc19b",
   "metadata": {},
   "outputs": [],
   "source": [
    "#Analyze Country with lowest GDP "
   ]
  },
  {
   "cell_type": "code",
   "execution_count": 8,
   "id": "776eec71",
   "metadata": {},
   "outputs": [],
   "source": [
    "min_gdp=gdp.argmin()"
   ]
  },
  {
   "cell_type": "code",
   "execution_count": 10,
   "id": "ce4ee42b",
   "metadata": {},
   "outputs": [],
   "source": [
    "country_min_gdp=countries[min_gdp]"
   ]
  },
  {
   "cell_type": "code",
   "execution_count": 11,
   "id": "b93bbf99",
   "metadata": {},
   "outputs": [
    {
     "data": {
      "text/plain": [
       "'Ethiopia'"
      ]
     },
     "execution_count": 11,
     "metadata": {},
     "output_type": "execute_result"
    }
   ],
   "source": [
    "country_min_gdp"
   ]
  },
  {
   "cell_type": "code",
   "execution_count": 13,
   "id": "ac8e1755",
   "metadata": {},
   "outputs": [
    {
     "name": "stdout",
     "output_type": "stream",
     "text": [
      "Algeria\n",
      "Angola\n",
      "Argentina\n",
      "Australia\n",
      "Austria\n",
      "Bahamas\n",
      "Bangladesh\n",
      "Belarus\n",
      "Belgium\n",
      "Bhutan\n",
      "Brazil\n",
      "Bulgaria\n",
      "Cambodia\n",
      "Cameroon\n",
      "Chile\n",
      "China\n",
      "Colombia\n",
      "Cyprus\n",
      "Denmark\n",
      "El Salvador\n",
      "Estonia\n",
      "Ethiopia\n",
      "Fiji\n",
      "Finland\n",
      "France\n",
      "Georgia\n",
      "Ghana\n",
      "Grenada\n",
      "Guinea\n",
      "Haiti\n",
      "Honduras\n",
      "Hungary\n",
      "India\n",
      "Indonesia\n",
      "Ireland\n",
      "Italy\n",
      "Japan\n",
      "Kenya\n",
      "South Korea\n",
      "Liberia\n",
      "Malaysia\n",
      "Mexico\n",
      "Morocco\n",
      "Nepal\n",
      "New Zealand\n",
      "Norway\n",
      "Pakistan\n",
      "Peru\n",
      "Qatar\n",
      "Russia\n",
      "Singapore\n",
      "South Africa\n",
      "Spain\n",
      "Sweden\n",
      "Switzerland\n",
      "Thailand\n",
      "United Arab Emirates\n",
      "United Kingdom\n",
      "United States\n",
      "Uruguay\n",
      "Venezuela\n",
      "Vietnam\n",
      "Zimbabwe\n"
     ]
    }
   ],
   "source": [
    "for c in countries: # print each country name\n",
    "    print(c)"
   ]
  },
  {
   "cell_type": "code",
   "execution_count": 19,
   "id": "6a29bc09",
   "metadata": {},
   "outputs": [
    {
     "name": "stdout",
     "output_type": "stream",
     "text": [
      "Country Algeria | GDP 2255.225482\n",
      "Country Angola | GDP 629.9553062\n",
      "Country Argentina | GDP 11601.63022\n",
      "Country Australia | GDP 25306.82494\n",
      "Country Austria | GDP 27266.40335\n",
      "Country Bahamas | GDP 19466.99052\n",
      "Country Bangladesh | GDP 588.3691778\n",
      "Country Belarus | GDP 2890.345675\n",
      "Country Belgium | GDP 24733.62696\n",
      "Country Bhutan | GDP 1445.760002\n",
      "Country Brazil | GDP 4803.398244\n",
      "Country Bulgaria | GDP 2618.876037\n",
      "Country Cambodia | GDP 590.4521124\n",
      "Country Cameroon | GDP 665.7982328\n",
      "Country Chile | GDP 7122.938458\n",
      "Country China | GDP 2639.54156\n",
      "Country Colombia | GDP 3362.4656\n",
      "Country Cyprus | GDP 15378.16704\n",
      "Country Denmark | GDP 30860.12808\n",
      "Country El Salvador | GDP 2579.115607\n",
      "Country Estonia | GDP 6525.541272\n",
      "Country Ethiopia | GDP 229.6769525\n",
      "Country Fiji | GDP 2242.689259\n",
      "Country Finland | GDP 27570.4852\n",
      "Country France | GDP 23016.84778\n",
      "Country Georgia | GDP 1334.646773\n",
      "Country Ghana | GDP 402.6953275\n",
      "Country Grenada | GDP 6047.200797\n",
      "Country Guinea | GDP 394.1156638\n",
      "Country Haiti | GDP 385.5793827\n",
      "Country Honduras | GDP 1414.072488\n",
      "Country Hungary | GDP 5745.981529\n",
      "Country India | GDP 837.7464011\n",
      "Country Indonesia | GDP 1206.991065\n",
      "Country Ireland | GDP 27715.52837\n",
      "Country Italy | GDP 18937.24998\n",
      "Country Japan | GDP 39578.07441\n",
      "Country Kenya | GDP 478.2194906\n",
      "Country South Korea | GDP 16684.21278\n",
      "Country Liberia | GDP 279.2204061\n",
      "Country Malaysia | GDP 5345.213415\n",
      "Country Mexico | GDP 6288.25324\n",
      "Country Morocco | GDP 1908.304416\n",
      "Country Nepal | GDP 274.8728621\n",
      "Country New Zealand | GDP 14646.42094\n",
      "Country Norway | GDP 40034.85063\n",
      "Country Pakistan | GDP 672.1547506\n",
      "Country Peru | GDP 3359.517402\n",
      "Country Qatar | GDP 36152.66676\n",
      "Country Russia | GDP 3054.727742\n",
      "Country Singapore | GDP 33529.83052\n",
      "Country South Africa | GDP 3825.093781\n",
      "Country Spain | GDP 15428.32098\n",
      "Country Sweden | GDP 33630.24604\n",
      "Country Switzerland | GDP 39170.41371\n",
      "Country Thailand | GDP 2699.123242\n",
      "Country United Arab Emirates | GDP 21058.43643\n",
      "Country United Kingdom | GDP 28272.40661\n",
      "Country United States | GDP 37691.02733\n",
      "Country Uruguay | GDP 9581.05659\n",
      "Country Venezuela | GDP 5671.912202\n",
      "Country Vietnam | GDP 757.4009286\n",
      "Country Zimbabwe | GDP 347.7456605\n"
     ]
    }
   ],
   "source": [
    "#print contries with their GDP\n",
    "for c in range(len(countries)):\n",
    "    con=countries[c]\n",
    "    country_per_gdp=gdp[c]\n",
    "    print('Country {} | GDP {}'.format(con,country_per_gdp))\n",
    "    "
   ]
  },
  {
   "cell_type": "code",
   "execution_count": 26,
   "id": "11f86488",
   "metadata": {},
   "outputs": [
    {
     "name": "stdout",
     "output_type": "stream",
     "text": [
      "40034.85063\n"
     ]
    }
   ],
   "source": [
    "#highest gdp value\n",
    "print(gdp.max())"
   ]
  },
  {
   "cell_type": "code",
   "execution_count": 25,
   "id": "426a4016",
   "metadata": {},
   "outputs": [
    {
     "name": "stdout",
     "output_type": "stream",
     "text": [
      "229.6769525\n"
     ]
    }
   ],
   "source": [
    "#lowest gdp value\n",
    "print(gdp.min())"
   ]
  },
  {
   "cell_type": "code",
   "execution_count": 27,
   "id": "645758d4",
   "metadata": {},
   "outputs": [
    {
     "name": "stdout",
     "output_type": "stream",
     "text": [
      "11289.409271639683\n"
     ]
    }
   ],
   "source": [
    "#mean gdp\n",
    "print(gdp.mean())"
   ]
  },
  {
   "cell_type": "code",
   "execution_count": 28,
   "id": "c53b1584",
   "metadata": {},
   "outputs": [
    {
     "name": "stdout",
     "output_type": "stream",
     "text": [
      "12743.828910617945\n"
     ]
    }
   ],
   "source": [
    "#standardized gdp value\n",
    "print(gdp.std())"
   ]
  },
  {
   "cell_type": "code",
   "execution_count": 29,
   "id": "d0e05793",
   "metadata": {},
   "outputs": [
    {
     "name": "stdout",
     "output_type": "stream",
     "text": [
      "711232.7841133\n"
     ]
    }
   ],
   "source": [
    "#sum of all  gdp value\n",
    "print(gdp.sum())"
   ]
  },
  {
   "cell_type": "code",
   "execution_count": null,
   "id": "c2fdd0ee",
   "metadata": {},
   "outputs": [],
   "source": []
  }
 ],
 "metadata": {
  "kernelspec": {
   "display_name": "Python 3 (ipykernel)",
   "language": "python",
   "name": "python3"
  },
  "language_info": {
   "codemirror_mode": {
    "name": "ipython",
    "version": 3
   },
   "file_extension": ".py",
   "mimetype": "text/x-python",
   "name": "python",
   "nbconvert_exporter": "python",
   "pygments_lexer": "ipython3",
   "version": "3.9.7"
  }
 },
 "nbformat": 4,
 "nbformat_minor": 5
}
