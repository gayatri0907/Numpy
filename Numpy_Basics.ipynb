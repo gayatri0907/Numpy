{
 "cells": [
  {
   "cell_type": "code",
   "execution_count": 1,
   "id": "8c5a291b",
   "metadata": {},
   "outputs": [],
   "source": [
    "#Creating Array\n",
    "distance = [10,5,7,26]\n",
    "time = [.30,.47,.55,1.20]\n"
   ]
  },
  {
   "cell_type": "code",
   "execution_count": 2,
   "id": "694c2eae",
   "metadata": {},
   "outputs": [],
   "source": [
    "#import numpy \n",
    "import numpy as np "
   ]
  },
  {
   "cell_type": "code",
   "execution_count": 3,
   "id": "0941ddce",
   "metadata": {},
   "outputs": [],
   "source": [
    "#Creating ndArray+++++\n",
    "np_distance = np.array(distance)\n",
    "np_time = np.array(time)\n",
    "speed = np_distance/np_time"
   ]
  },
  {
   "cell_type": "code",
   "execution_count": 4,
   "id": "b3fe4768",
   "metadata": {},
   "outputs": [
    {
     "data": {
      "text/plain": [
       "array([33.33333333, 10.63829787, 12.72727273, 21.66666667])"
      ]
     },
     "execution_count": 4,
     "metadata": {},
     "output_type": "execute_result"
    }
   ],
   "source": [
    "speed"
   ]
  },
  {
   "cell_type": "code",
   "execution_count": 5,
   "id": "566b70fd",
   "metadata": {},
   "outputs": [],
   "source": [
    "#Creating and Printing ndarrays\n",
    "first_numpy_array=np.array([1,2,3,4])"
   ]
  },
  {
   "cell_type": "code",
   "execution_count": 6,
   "id": "a07eca2c",
   "metadata": {},
   "outputs": [
    {
     "name": "stdout",
     "output_type": "stream",
     "text": [
      "[1 2 3 4]\n"
     ]
    }
   ],
   "source": [
    "print(first_numpy_array)"
   ]
  },
  {
   "cell_type": "code",
   "execution_count": 7,
   "id": "f84765f0",
   "metadata": {},
   "outputs": [],
   "source": [
    "#Array with Zeros\n",
    "array_with_zeros=np.zeros((3,3))"
   ]
  },
  {
   "cell_type": "code",
   "execution_count": 8,
   "id": "555f5669",
   "metadata": {},
   "outputs": [
    {
     "data": {
      "text/plain": [
       "array([[0., 0., 0.],\n",
       "       [0., 0., 0.],\n",
       "       [0., 0., 0.]])"
      ]
     },
     "execution_count": 8,
     "metadata": {},
     "output_type": "execute_result"
    }
   ],
   "source": [
    "array_with_zeros"
   ]
  },
  {
   "cell_type": "code",
   "execution_count": 9,
   "id": "19fc760b",
   "metadata": {},
   "outputs": [],
   "source": [
    "#Array with Ones\n",
    "array_with_ones=np.ones((3,3))"
   ]
  },
  {
   "cell_type": "code",
   "execution_count": 10,
   "id": "68975154",
   "metadata": {},
   "outputs": [
    {
     "data": {
      "text/plain": [
       "array([[1., 1., 1.],\n",
       "       [1., 1., 1.],\n",
       "       [1., 1., 1.]])"
      ]
     },
     "execution_count": 10,
     "metadata": {},
     "output_type": "execute_result"
    }
   ],
   "source": [
    "array_with_ones"
   ]
  },
  {
   "cell_type": "code",
   "execution_count": 17,
   "id": "80324bc2",
   "metadata": {},
   "outputs": [],
   "source": [
    "#Array with empty\n",
    "array_with_empty=np.empty((2,3))"
   ]
  },
  {
   "cell_type": "code",
   "execution_count": 18,
   "id": "d30b9028",
   "metadata": {},
   "outputs": [
    {
     "data": {
      "text/plain": [
       "array([[0., 0., 0.],\n",
       "       [0., 0., 0.]])"
      ]
     },
     "execution_count": 18,
     "metadata": {},
     "output_type": "execute_result"
    }
   ],
   "source": [
    "array_with_empty"
   ]
  },
  {
   "cell_type": "code",
   "execution_count": 26,
   "id": "5526dbc9",
   "metadata": {},
   "outputs": [],
   "source": [
    "#Array with Arrange method\n",
    "np_arange=np.arange(12)"
   ]
  },
  {
   "cell_type": "code",
   "execution_count": 27,
   "id": "222bb943",
   "metadata": {},
   "outputs": [
    {
     "name": "stdout",
     "output_type": "stream",
     "text": [
      "[ 0  1  2  3  4  5  6  7  8  9 10 11]\n"
     ]
    }
   ],
   "source": [
    "print(np_arange)"
   ]
  },
  {
   "cell_type": "code",
   "execution_count": 28,
   "id": "ade4b547",
   "metadata": {},
   "outputs": [
    {
     "data": {
      "text/plain": [
       "array([[ 0,  1,  2,  3],\n",
       "       [ 4,  5,  6,  7],\n",
       "       [ 8,  9, 10, 11]])"
      ]
     },
     "execution_count": 28,
     "metadata": {},
     "output_type": "execute_result"
    }
   ],
   "source": [
    "#Reshape method to create/change array\n",
    "np_arange.reshape(3,4)"
   ]
  },
  {
   "cell_type": "code",
   "execution_count": 30,
   "id": "a532678e",
   "metadata": {},
   "outputs": [],
   "source": [
    "#Linspace for linerly (equal) spaced data elements\n",
    "np_linspce=np.linspace(1,6,5)"
   ]
  },
  {
   "cell_type": "code",
   "execution_count": 31,
   "id": "8d53bd11",
   "metadata": {},
   "outputs": [
    {
     "name": "stdout",
     "output_type": "stream",
     "text": [
      "[1.   2.25 3.5  4.75 6.  ]\n"
     ]
    }
   ],
   "source": [
    "print(np_linspce)"
   ]
  },
  {
   "cell_type": "code",
   "execution_count": 32,
   "id": "e936c6e7",
   "metadata": {},
   "outputs": [],
   "source": [
    "#one dimensional array\n",
    "One_d_array=np.arange((15))"
   ]
  },
  {
   "cell_type": "code",
   "execution_count": 33,
   "id": "1a40d1d2",
   "metadata": {},
   "outputs": [
    {
     "name": "stdout",
     "output_type": "stream",
     "text": [
      "[ 0  1  2  3  4  5  6  7  8  9 10 11 12 13 14]\n"
     ]
    }
   ],
   "source": [
    "print(One_d_array)"
   ]
  },
  {
   "cell_type": "code",
   "execution_count": 35,
   "id": "bd0e7c4b",
   "metadata": {},
   "outputs": [],
   "source": [
    "#two dimensional array\n",
    "Two_d_array=One_d_array.reshape(3,5)"
   ]
  },
  {
   "cell_type": "code",
   "execution_count": 36,
   "id": "a12804f8",
   "metadata": {},
   "outputs": [
    {
     "name": "stdout",
     "output_type": "stream",
     "text": [
      "[[ 0  1  2  3  4]\n",
      " [ 5  6  7  8  9]\n",
      " [10 11 12 13 14]]\n"
     ]
    }
   ],
   "source": [
    "print(Two_d_array)"
   ]
  },
  {
   "cell_type": "code",
   "execution_count": 37,
   "id": "fd355dac",
   "metadata": {},
   "outputs": [],
   "source": [
    "#Three dimensional array\n",
    "Three_d_array=np.arange(27).reshape(3,3,3)"
   ]
  },
  {
   "cell_type": "code",
   "execution_count": 38,
   "id": "1014781a",
   "metadata": {},
   "outputs": [
    {
     "name": "stdout",
     "output_type": "stream",
     "text": [
      "[[[ 0  1  2]\n",
      "  [ 3  4  5]\n",
      "  [ 6  7  8]]\n",
      "\n",
      " [[ 9 10 11]\n",
      "  [12 13 14]\n",
      "  [15 16 17]]\n",
      "\n",
      " [[18 19 20]\n",
      "  [21 22 23]\n",
      "  [24 25 26]]]\n"
     ]
    }
   ],
   "source": [
    "print(Three_d_array)"
   ]
  },
  {
   "cell_type": "code",
   "execution_count": 43,
   "id": "d0090f69",
   "metadata": {},
   "outputs": [],
   "source": [
    "#Class and Attributes of ndArray\n",
    "# 1.ndarray.ndim\n",
    "np_lang=np.array(['English','Hindi','Marathi','Bengali','Tamil','Kannada'])\n",
    "np_region_of_lang=np.array(['England','North','Maharashtra','West Bengal','Tamilnadu','Karnataka'])"
   ]
  },
  {
   "cell_type": "code",
   "execution_count": 44,
   "id": "bb5f611e",
   "metadata": {},
   "outputs": [
    {
     "data": {
      "text/plain": [
       "1"
      ]
     },
     "execution_count": 44,
     "metadata": {},
     "output_type": "execute_result"
    }
   ],
   "source": [
    "np_lang.ndim"
   ]
  },
  {
   "cell_type": "code",
   "execution_count": 46,
   "id": "513d21bd",
   "metadata": {},
   "outputs": [
    {
     "data": {
      "text/plain": [
       "1"
      ]
     },
     "execution_count": 46,
     "metadata": {},
     "output_type": "execute_result"
    }
   ],
   "source": [
    "np_region_of_lang.ndim"
   ]
  },
  {
   "cell_type": "code",
   "execution_count": 47,
   "id": "c6563757",
   "metadata": {},
   "outputs": [
    {
     "data": {
      "text/plain": [
       "(6,)"
      ]
     },
     "execution_count": 47,
     "metadata": {},
     "output_type": "execute_result"
    }
   ],
   "source": [
    "# 2.ndarray.shape\n",
    "np_lang.shape"
   ]
  },
  {
   "cell_type": "code",
   "execution_count": 48,
   "id": "d1059ed5",
   "metadata": {},
   "outputs": [
    {
     "data": {
      "text/plain": [
       "(6,)"
      ]
     },
     "execution_count": 48,
     "metadata": {},
     "output_type": "execute_result"
    }
   ],
   "source": [
    "np_region_of_lang.shape"
   ]
  },
  {
   "cell_type": "code",
   "execution_count": 49,
   "id": "4266ac7e",
   "metadata": {},
   "outputs": [
    {
     "data": {
      "text/plain": [
       "6"
      ]
     },
     "execution_count": 49,
     "metadata": {},
     "output_type": "execute_result"
    }
   ],
   "source": [
    "# 3.ndarray.size\n",
    "np_lang.size"
   ]
  },
  {
   "cell_type": "code",
   "execution_count": 50,
   "id": "a974b201",
   "metadata": {},
   "outputs": [
    {
     "data": {
      "text/plain": [
       "6"
      ]
     },
     "execution_count": 50,
     "metadata": {},
     "output_type": "execute_result"
    }
   ],
   "source": [
    "np_region_of_lang.size"
   ]
  },
  {
   "cell_type": "code",
   "execution_count": 51,
   "id": "a914177d",
   "metadata": {},
   "outputs": [
    {
     "data": {
      "text/plain": [
       "dtype('<U7')"
      ]
     },
     "execution_count": 51,
     "metadata": {},
     "output_type": "execute_result"
    }
   ],
   "source": [
    "# 4. ndarray.dtype\n",
    "np_lang.dtype"
   ]
  },
  {
   "cell_type": "code",
   "execution_count": 52,
   "id": "d63fc0bf",
   "metadata": {},
   "outputs": [
    {
     "data": {
      "text/plain": [
       "dtype('<U11')"
      ]
     },
     "execution_count": 52,
     "metadata": {},
     "output_type": "execute_result"
    }
   ],
   "source": [
    "np_region_of_lang.dtype"
   ]
  },
  {
   "cell_type": "code",
   "execution_count": 53,
   "id": "f4727437",
   "metadata": {},
   "outputs": [],
   "source": [
    "#numpy basic operations\n",
    "first_count=[6,7,8,9,]\n",
    "second_count=[10,11,12,13]\n"
   ]
  },
  {
   "cell_type": "code",
   "execution_count": 55,
   "id": "8569f978",
   "metadata": {},
   "outputs": [
    {
     "data": {
      "text/plain": [
       "array([16, 18, 20, 22])"
      ]
     },
     "execution_count": 55,
     "metadata": {},
     "output_type": "execute_result"
    }
   ],
   "source": [
    "np_first_count=np.array(first_count)\n",
    "np_second_count=np.array(second_count)\n",
    "np_first_count+np_second_count  #vector addition"
   ]
  },
  {
   "cell_type": "code",
   "execution_count": 56,
   "id": "3bf64f75",
   "metadata": {},
   "outputs": [
    {
     "data": {
      "text/plain": [
       "75"
      ]
     },
     "execution_count": 56,
     "metadata": {},
     "output_type": "execute_result"
    }
   ],
   "source": [
    "#Mathmatical Operations\n",
    "np.add(30,45)"
   ]
  },
  {
   "cell_type": "code",
   "execution_count": 57,
   "id": "f38bdae2",
   "metadata": {},
   "outputs": [
    {
     "data": {
      "text/plain": [
       "65"
      ]
     },
     "execution_count": 57,
     "metadata": {},
     "output_type": "execute_result"
    }
   ],
   "source": [
    "np.subtract(85,20)"
   ]
  },
  {
   "cell_type": "code",
   "execution_count": 58,
   "id": "1df7cf36",
   "metadata": {},
   "outputs": [],
   "source": [
    "#ndarray multiplications\n",
    "nd_daily_wage=np.array([2,4,6,8])*2"
   ]
  },
  {
   "cell_type": "code",
   "execution_count": 59,
   "id": "2288a93d",
   "metadata": {},
   "outputs": [
    {
     "name": "stdout",
     "output_type": "stream",
     "text": [
      "[ 4  8 12 16]\n"
     ]
    }
   ],
   "source": [
    "print(nd_daily_wage)"
   ]
  },
  {
   "cell_type": "code",
   "execution_count": 61,
   "id": "a67ed9fa",
   "metadata": {},
   "outputs": [
    {
     "data": {
      "text/plain": [
       "40"
      ]
     },
     "execution_count": 61,
     "metadata": {},
     "output_type": "execute_result"
    }
   ],
   "source": [
    "sum(nd_daily_wage)"
   ]
  },
  {
   "cell_type": "code",
   "execution_count": 28,
   "id": "540fb910",
   "metadata": {},
   "outputs": [],
   "source": [
    "#Comparision Operations\n",
    "np_hours=np.array([2,4,6,8])"
   ]
  },
  {
   "cell_type": "code",
   "execution_count": 29,
   "id": "916c65a7",
   "metadata": {},
   "outputs": [
    {
     "data": {
      "text/plain": [
       "array([4, 6, 8])"
      ]
     },
     "execution_count": 29,
     "metadata": {},
     "output_type": "execute_result"
    }
   ],
   "source": [
    "np_hours[np_hours>2]"
   ]
  },
  {
   "cell_type": "code",
   "execution_count": 30,
   "id": "642e7978",
   "metadata": {},
   "outputs": [
    {
     "data": {
      "text/plain": [
       "array([2, 4, 8])"
      ]
     },
     "execution_count": 30,
     "metadata": {},
     "output_type": "execute_result"
    }
   ],
   "source": [
    "np_hours[np_hours!=6]"
   ]
  },
  {
   "cell_type": "code",
   "execution_count": 31,
   "id": "11338901",
   "metadata": {},
   "outputs": [
    {
     "data": {
      "text/plain": [
       "array([False,  True,  True,  True])"
      ]
     },
     "execution_count": 31,
     "metadata": {},
     "output_type": "execute_result"
    }
   ],
   "source": [
    "#Logical Operations\n",
    "np.logical_and(np_hours>2,np_hours<10)"
   ]
  },
  {
   "cell_type": "code",
   "execution_count": 76,
   "id": "f5f58e72",
   "metadata": {},
   "outputs": [
    {
     "data": {
      "text/plain": [
       "array([ True,  True,  True, False])"
      ]
     },
     "execution_count": 76,
     "metadata": {},
     "output_type": "execute_result"
    }
   ],
   "source": [
    "np.logical_not(np_hours>7)"
   ]
  },
  {
   "cell_type": "code",
   "execution_count": 23,
   "id": "880e2b57",
   "metadata": {},
   "outputs": [],
   "source": [
    "import numpy as np"
   ]
  },
  {
   "cell_type": "code",
   "execution_count": 24,
   "id": "1ecedb5c",
   "metadata": {},
   "outputs": [],
   "source": [
    "#Comparison Operations\n",
    "np_count=np.array([10,20,30,40,50])"
   ]
  },
  {
   "cell_type": "code",
   "execution_count": 25,
   "id": "b20bed0a",
   "metadata": {},
   "outputs": [
    {
     "data": {
      "text/plain": [
       "array([20, 30, 40, 50])"
      ]
     },
     "execution_count": 25,
     "metadata": {},
     "output_type": "execute_result"
    }
   ],
   "source": [
    "#check if element is more than 10\n",
    "np_count[np_count>10]"
   ]
  },
  {
   "cell_type": "code",
   "execution_count": 27,
   "id": "51a8de1d",
   "metadata": {},
   "outputs": [
    {
     "data": {
      "text/plain": [
       "array([10, 20, 30, 40])"
      ]
     },
     "execution_count": 27,
     "metadata": {},
     "output_type": "execute_result"
    }
   ],
   "source": [
    "#check if count not equals to 40\n",
    "np_count[np_count!=50]"
   ]
  },
  {
   "cell_type": "code",
   "execution_count": 32,
   "id": "2f61835d",
   "metadata": {},
   "outputs": [
    {
     "data": {
      "text/plain": [
       "array([False,  True,  True,  True, False])"
      ]
     },
     "execution_count": 32,
     "metadata": {},
     "output_type": "execute_result"
    }
   ],
   "source": [
    "#Logical And Operation\n",
    "np.logical_and(np_count>10,np_count<50)"
   ]
  },
  {
   "cell_type": "code",
   "execution_count": 34,
   "id": "3f007e3e",
   "metadata": {},
   "outputs": [
    {
     "data": {
      "text/plain": [
       "array([ True,  True, False, False, False])"
      ]
     },
     "execution_count": 34,
     "metadata": {},
     "output_type": "execute_result"
    }
   ],
   "source": [
    "#Logical NOT operations\n",
    "np.logical_not(np_count>20)"
   ]
  },
  {
   "cell_type": "code",
   "execution_count": 36,
   "id": "0836592f",
   "metadata": {},
   "outputs": [],
   "source": [
    "#Accessing Array Elements : Indexing\n",
    "Working_Shifts=np.array([[6,3,8,5],[12,9,2,11]])  # Creating 2D Array"
   ]
  },
  {
   "cell_type": "code",
   "execution_count": 39,
   "id": "67381f39",
   "metadata": {},
   "outputs": [
    {
     "data": {
      "text/plain": [
       "array([6, 3, 8, 5])"
      ]
     },
     "execution_count": 39,
     "metadata": {},
     "output_type": "execute_result"
    }
   ],
   "source": [
    "first_shift=Working_Shifts[0]\n",
    "first_shift"
   ]
  },
  {
   "cell_type": "code",
   "execution_count": 40,
   "id": "a7f1f9ba",
   "metadata": {},
   "outputs": [
    {
     "data": {
      "text/plain": [
       "array([12,  9,  2, 11])"
      ]
     },
     "execution_count": 40,
     "metadata": {},
     "output_type": "execute_result"
    }
   ],
   "source": [
    "second_shift=Working_Shifts[1]\n",
    "second_shift"
   ]
  },
  {
   "cell_type": "code",
   "execution_count": 44,
   "id": "ecbe2ccb",
   "metadata": {},
   "outputs": [],
   "source": [
    "first_shift_start=Working_Shifts[0][0]"
   ]
  },
  {
   "cell_type": "code",
   "execution_count": 45,
   "id": "3d16285e",
   "metadata": {},
   "outputs": [
    {
     "data": {
      "text/plain": [
       "6"
      ]
     },
     "execution_count": 45,
     "metadata": {},
     "output_type": "execute_result"
    }
   ],
   "source": [
    "first_shift_start"
   ]
  },
  {
   "cell_type": "code",
   "execution_count": 48,
   "id": "4f8653a5",
   "metadata": {},
   "outputs": [],
   "source": [
    "first_shift_time=Working_Shifts[:,0]"
   ]
  },
  {
   "cell_type": "code",
   "execution_count": 49,
   "id": "c64f6fc3",
   "metadata": {},
   "outputs": [
    {
     "data": {
      "text/plain": [
       "array([ 6, 12])"
      ]
     },
     "execution_count": 49,
     "metadata": {},
     "output_type": "execute_result"
    }
   ],
   "source": [
    "first_shift_time"
   ]
  },
  {
   "cell_type": "code",
   "execution_count": 50,
   "id": "ef6cfda4",
   "metadata": {},
   "outputs": [
    {
     "data": {
      "text/plain": [
       "(2, 4)"
      ]
     },
     "execution_count": 50,
     "metadata": {},
     "output_type": "execute_result"
    }
   ],
   "source": [
    "#Slicing\n",
    "Working_Shifts.shape"
   ]
  },
  {
   "cell_type": "code",
   "execution_count": 56,
   "id": "bfc3ecf3",
   "metadata": {},
   "outputs": [],
   "source": [
    "shifts_data=Working_Shifts[:,1:4]"
   ]
  },
  {
   "cell_type": "code",
   "execution_count": 57,
   "id": "ddff7cb8",
   "metadata": {},
   "outputs": [
    {
     "data": {
      "text/plain": [
       "array([[ 3,  8,  5],\n",
       "       [ 9,  2, 11]])"
      ]
     },
     "execution_count": 57,
     "metadata": {},
     "output_type": "execute_result"
    }
   ],
   "source": [
    "shifts_data"
   ]
  },
  {
   "cell_type": "code",
   "execution_count": 59,
   "id": "6008d2dc",
   "metadata": {},
   "outputs": [
    {
     "name": "stdout",
     "output_type": "stream",
     "text": [
      "[6 3 8 5]\n",
      "[12  9  2 11]\n"
     ]
    }
   ],
   "source": [
    "#Iteration\n",
    "for i in Working_Shifts:\n",
    "    print(i)"
   ]
  },
  {
   "cell_type": "code",
   "execution_count": 63,
   "id": "cc899c5a",
   "metadata": {},
   "outputs": [],
   "source": [
    "#Indexing with Boolean Arrays\n",
    "test_score=np.array([[40,45,80,95],[75,60,35,86]])"
   ]
  },
  {
   "cell_type": "code",
   "execution_count": 64,
   "id": "9b0adc20",
   "metadata": {},
   "outputs": [],
   "source": [
    "passing_score=test_score>35"
   ]
  },
  {
   "cell_type": "code",
   "execution_count": 65,
   "id": "c439f904",
   "metadata": {},
   "outputs": [
    {
     "data": {
      "text/plain": [
       "array([[ True,  True,  True,  True],\n",
       "       [ True,  True, False,  True]])"
      ]
     },
     "execution_count": 65,
     "metadata": {},
     "output_type": "execute_result"
    }
   ],
   "source": [
    "passing_score"
   ]
  },
  {
   "cell_type": "code",
   "execution_count": 66,
   "id": "dc05a764",
   "metadata": {},
   "outputs": [
    {
     "data": {
      "text/plain": [
       "array([40, 45, 80, 95, 75, 60, 86])"
      ]
     },
     "execution_count": 66,
     "metadata": {},
     "output_type": "execute_result"
    }
   ],
   "source": [
    "test_score[passing_score] #send passing score as an argument to test scores bject"
   ]
  },
  {
   "cell_type": "code",
   "execution_count": 67,
   "id": "6b7382a8",
   "metadata": {},
   "outputs": [],
   "source": [
    "#Mathmatical Functions of Numpy\n"
   ]
  },
  {
   "cell_type": "code",
   "execution_count": 70,
   "id": "8d2b6a97",
   "metadata": {},
   "outputs": [],
   "source": [
    "#Universal Fnction / ufunc example\n",
    "#Square root\n",
    "np_sqrt=np.sqrt([4,9,16,64])\n"
   ]
  },
  {
   "cell_type": "code",
   "execution_count": 71,
   "id": "6c73221e",
   "metadata": {},
   "outputs": [
    {
     "data": {
      "text/plain": [
       "array([2., 3., 4., 8.])"
      ]
     },
     "execution_count": 71,
     "metadata": {},
     "output_type": "execute_result"
    }
   ],
   "source": [
    "np_sqrt"
   ]
  },
  {
   "cell_type": "code",
   "execution_count": 72,
   "id": "fdf8b141",
   "metadata": {},
   "outputs": [],
   "source": [
    "from numpy import pi"
   ]
  },
  {
   "cell_type": "code",
   "execution_count": 77,
   "id": "d2104be7",
   "metadata": {},
   "outputs": [
    {
     "data": {
      "text/plain": [
       "1.0"
      ]
     },
     "execution_count": 77,
     "metadata": {},
     "output_type": "execute_result"
    }
   ],
   "source": [
    "#Trigonometric functions\n",
    "np.cos(0) "
   ]
  },
  {
   "cell_type": "code",
   "execution_count": 74,
   "id": "bf28faf0",
   "metadata": {},
   "outputs": [
    {
     "data": {
      "text/plain": [
       "1.0"
      ]
     },
     "execution_count": 74,
     "metadata": {},
     "output_type": "execute_result"
    }
   ],
   "source": [
    "np.sin(pi/2)"
   ]
  },
  {
   "cell_type": "code",
   "execution_count": 76,
   "id": "1782aef9",
   "metadata": {},
   "outputs": [
    {
     "data": {
      "text/plain": [
       "-1.0"
      ]
     },
     "execution_count": 76,
     "metadata": {},
     "output_type": "execute_result"
    }
   ],
   "source": [
    "np.cos(pi)"
   ]
  },
  {
   "cell_type": "code",
   "execution_count": 78,
   "id": "f6cf910c",
   "metadata": {},
   "outputs": [
    {
     "data": {
      "text/plain": [
       "array([ 1.,  1.,  2.,  2., -2.])"
      ]
     },
     "execution_count": 78,
     "metadata": {},
     "output_type": "execute_result"
    }
   ],
   "source": [
    "#Floor Function\n",
    "np.floor([1.5,1.6,2.6,2.5,-1.4])"
   ]
  },
  {
   "cell_type": "code",
   "execution_count": 80,
   "id": "143fbb8c",
   "metadata": {},
   "outputs": [
    {
     "data": {
      "text/plain": [
       "array([  7.3890561 , 403.42879349,   2.71828183])"
      ]
     },
     "execution_count": 80,
     "metadata": {},
     "output_type": "execute_result"
    }
   ],
   "source": [
    "#Exp Function\n",
    "np.exp([2,6,1])"
   ]
  },
  {
   "cell_type": "code",
   "execution_count": 89,
   "id": "3921e4c3",
   "metadata": {},
   "outputs": [
    {
     "data": {
      "text/plain": [
       "array([10, 15, 20, 25, 30, 50, 35, 40, 45, 85, 90, 65])"
      ]
     },
     "execution_count": 89,
     "metadata": {},
     "output_type": "execute_result"
    }
   ],
   "source": [
    "#Shape Manipulation\n",
    "#Flatterns the dataset\n",
    "data_set=np.array([[10,15,20,25,30,50],[35,40,45,85,90,65]])\n",
    "data_set.ravel()"
   ]
  },
  {
   "cell_type": "code",
   "execution_count": 91,
   "id": "7792563e",
   "metadata": {},
   "outputs": [
    {
     "data": {
      "text/plain": [
       "array([[10, 15, 20, 25],\n",
       "       [30, 50, 35, 40],\n",
       "       [45, 85, 90, 65]])"
      ]
     },
     "execution_count": 91,
     "metadata": {},
     "output_type": "execute_result"
    }
   ],
   "source": [
    "#changing dataset / reshaping o 3rows and 4 col\n",
    "data_set.reshape(3,4)"
   ]
  },
  {
   "cell_type": "code",
   "execution_count": 92,
   "id": "5f8bbd9d",
   "metadata": {},
   "outputs": [],
   "source": [
    "#resize again to 2 rows and 6 col\n",
    "data_set.resize(2,6)"
   ]
  },
  {
   "cell_type": "code",
   "execution_count": 93,
   "id": "532ab568",
   "metadata": {},
   "outputs": [
    {
     "data": {
      "text/plain": [
       "array([[10, 15, 20, 25, 30, 50],\n",
       "       [35, 40, 45, 85, 90, 65]])"
      ]
     },
     "execution_count": 93,
     "metadata": {},
     "output_type": "execute_result"
    }
   ],
   "source": [
    "data_set"
   ]
  },
  {
   "cell_type": "code",
   "execution_count": 94,
   "id": "58f400ef",
   "metadata": {},
   "outputs": [
    {
     "data": {
      "text/plain": [
       "[array([[10, 15, 20],\n",
       "        [35, 40, 45]]),\n",
       " array([[25, 30, 50],\n",
       "        [85, 90, 65]])]"
      ]
     },
     "execution_count": 94,
     "metadata": {},
     "output_type": "execute_result"
    }
   ],
   "source": [
    "#Split array into two\n",
    "np.hsplit(data_set,2)"
   ]
  },
  {
   "cell_type": "code",
   "execution_count": 100,
   "id": "f7756b16",
   "metadata": {},
   "outputs": [],
   "source": [
    "new_dataset_1=np.array([10,12,14,16,18,20])"
   ]
  },
  {
   "cell_type": "code",
   "execution_count": 101,
   "id": "ada2b9f4",
   "metadata": {},
   "outputs": [],
   "source": [
    "new_dataset_2=np.array([9,12,15,18,21,24])"
   ]
  },
  {
   "cell_type": "code",
   "execution_count": 102,
   "id": "c9d72978",
   "metadata": {},
   "outputs": [
    {
     "data": {
      "text/plain": [
       "array([10, 12, 14, 16, 18, 20,  9, 12, 15, 18, 21, 24])"
      ]
     },
     "execution_count": 102,
     "metadata": {},
     "output_type": "execute_result"
    }
   ],
   "source": [
    "#stacks the array together\n",
    "np.hstack((new_dataset_1,new_dataset_2))"
   ]
  },
  {
   "cell_type": "code",
   "execution_count": 103,
   "id": "c124a6e6",
   "metadata": {},
   "outputs": [],
   "source": [
    "#broadcasting\n",
    "array_a=np.array([2,4,6,8])"
   ]
  },
  {
   "cell_type": "code",
   "execution_count": 104,
   "id": "f2be999f",
   "metadata": {},
   "outputs": [],
   "source": [
    "array_b=np.array([10,12,14,16])"
   ]
  },
  {
   "cell_type": "code",
   "execution_count": 105,
   "id": "3a21320b",
   "metadata": {},
   "outputs": [
    {
     "data": {
      "text/plain": [
       "array([ 20,  48,  84, 128])"
      ]
     },
     "execution_count": 105,
     "metadata": {},
     "output_type": "execute_result"
    }
   ],
   "source": [
    "#multiply arrays\n",
    "array_a*array_b"
   ]
  },
  {
   "cell_type": "code",
   "execution_count": 106,
   "id": "efbf15ac",
   "metadata": {},
   "outputs": [],
   "source": [
    "scalar_c=.3"
   ]
  },
  {
   "cell_type": "code",
   "execution_count": 107,
   "id": "0216a34a",
   "metadata": {},
   "outputs": [
    {
     "data": {
      "text/plain": [
       "array([0.6, 1.2, 1.8, 2.4])"
      ]
     },
     "execution_count": 107,
     "metadata": {},
     "output_type": "execute_result"
    }
   ],
   "source": [
    "array_a*scalar_c"
   ]
  },
  {
   "cell_type": "code",
   "execution_count": 108,
   "id": "a84306e1",
   "metadata": {},
   "outputs": [
    {
     "data": {
      "text/plain": [
       "array([[40, 75],\n",
       "       [45, 60],\n",
       "       [80, 35],\n",
       "       [95, 86]])"
      ]
     },
     "execution_count": 108,
     "metadata": {},
     "output_type": "execute_result"
    }
   ],
   "source": [
    "#Linear Algebra - Transpose\n",
    "test_score.transpose()"
   ]
  },
  {
   "cell_type": "code",
   "execution_count": 112,
   "id": "f62a85a5",
   "metadata": {},
   "outputs": [],
   "source": [
    "#Linear Algebra | inverse and trace functions\n",
    "#inverse\n",
    "test_array=np.array([[10,20],[15,20]])"
   ]
  },
  {
   "cell_type": "code",
   "execution_count": 113,
   "id": "d306f107",
   "metadata": {},
   "outputs": [
    {
     "data": {
      "text/plain": [
       "array([[-0.2 ,  0.2 ],\n",
       "       [ 0.15, -0.1 ]])"
      ]
     },
     "execution_count": 113,
     "metadata": {},
     "output_type": "execute_result"
    }
   ],
   "source": [
    "np.linalg.inv(test_array)"
   ]
  },
  {
   "cell_type": "code",
   "execution_count": 114,
   "id": "b67ee2b4",
   "metadata": {},
   "outputs": [
    {
     "data": {
      "text/plain": [
       "30"
      ]
     },
     "execution_count": 114,
     "metadata": {},
     "output_type": "execute_result"
    }
   ],
   "source": [
    "#trace\n",
    "np.trace(test_array) #sum of diagonal elements sum of higher data elements"
   ]
  },
  {
   "cell_type": "code",
   "execution_count": null,
   "id": "25045535",
   "metadata": {},
   "outputs": [],
   "source": []
  }
 ],
 "metadata": {
  "kernelspec": {
   "display_name": "Python 3 (ipykernel)",
   "language": "python",
   "name": "python3"
  },
  "language_info": {
   "codemirror_mode": {
    "name": "ipython",
    "version": 3
   },
   "file_extension": ".py",
   "mimetype": "text/x-python",
   "name": "python",
   "nbconvert_exporter": "python",
   "pygments_lexer": "ipython3",
   "version": "3.9.7"
  }
 },
 "nbformat": 4,
 "nbformat_minor": 5
}
