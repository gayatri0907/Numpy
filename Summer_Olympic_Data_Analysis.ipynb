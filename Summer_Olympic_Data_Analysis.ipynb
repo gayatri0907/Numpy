{
 "cells": [
  {
   "cell_type": "code",
   "execution_count": 1,
   "id": "106c1cd8",
   "metadata": {},
   "outputs": [],
   "source": [
    "import numpy as np"
   ]
  },
  {
   "cell_type": "code",
   "execution_count": 5,
   "id": "a3cffcd5",
   "metadata": {},
   "outputs": [],
   "source": [
    "np_oly_con=np.array(['GBR','China','RUS','US','KOR','JPN','GER'])\n",
    "np_oly_gold=np.array([29,3,24,46,13,7,11])\n",
    "np_oly_silver=np.array([17,28,25,28,8,14,11])\n",
    "np_oly_bronze=np.array([19,22,32,29,7,17,14])"
   ]
  },
  {
   "cell_type": "code",
   "execution_count": 6,
   "id": "b7c8378c",
   "metadata": {},
   "outputs": [],
   "source": [
    "#Find Contry with max gold\n",
    "max_gold=np_oly_gold.argmax()"
   ]
  },
  {
   "cell_type": "code",
   "execution_count": 7,
   "id": "96f36de9",
   "metadata": {},
   "outputs": [
    {
     "data": {
      "text/plain": [
       "3"
      ]
     },
     "execution_count": 7,
     "metadata": {},
     "output_type": "execute_result"
    }
   ],
   "source": [
    "max_gold"
   ]
  },
  {
   "cell_type": "code",
   "execution_count": 10,
   "id": "be328b16",
   "metadata": {},
   "outputs": [],
   "source": [
    "country_max_gold=np_oly_con[max_gold]"
   ]
  },
  {
   "cell_type": "code",
   "execution_count": 11,
   "id": "0e42e9d7",
   "metadata": {},
   "outputs": [
    {
     "data": {
      "text/plain": [
       "'US'"
      ]
     },
     "execution_count": 11,
     "metadata": {},
     "output_type": "execute_result"
    }
   ],
   "source": [
    "country_max_gold"
   ]
  },
  {
   "cell_type": "code",
   "execution_count": 12,
   "id": "24712629",
   "metadata": {},
   "outputs": [
    {
     "name": "stdout",
     "output_type": "stream",
     "text": [
      "['GBR' 'RUS' 'US']\n"
     ]
    }
   ],
   "source": [
    "#Find country with gold more than 20\n",
    "print(np_oly_con[np_oly_gold>20])"
   ]
  },
  {
   "cell_type": "code",
   "execution_count": 14,
   "id": "38fae215",
   "metadata": {},
   "outputs": [
    {
     "name": "stdout",
     "output_type": "stream",
     "text": [
      "GBR,gold medal 29,total medals 65\n",
      "China,gold medal 3,total medals 53\n",
      "RUS,gold medal 24,total medals 81\n",
      "US,gold medal 46,total medals 103\n",
      "KOR,gold medal 13,total medals 28\n",
      "JPN,gold medal 7,total medals 38\n",
      "GER,gold medal 11,total medals 36\n"
     ]
    }
   ],
   "source": [
    "#Evaluate dataset and print the medal tally\n",
    "for i in range(len(np_oly_con)):\n",
    "    gold=np_oly_gold[i]\n",
    "    country=np_oly_con[i]\n",
    "    total_medal=np_oly_bronze[i]+np_oly_gold[i]+np_oly_silver[i]\n",
    "    print('{},gold medal {},total medals {}'.format(country,gold,total_medal))"
   ]
  },
  {
   "cell_type": "code",
   "execution_count": null,
   "id": "849d74b4",
   "metadata": {},
   "outputs": [],
   "source": []
  }
 ],
 "metadata": {
  "kernelspec": {
   "display_name": "Python 3 (ipykernel)",
   "language": "python",
   "name": "python3"
  },
  "language_info": {
   "codemirror_mode": {
    "name": "ipython",
    "version": 3
   },
   "file_extension": ".py",
   "mimetype": "text/x-python",
   "name": "python",
   "nbconvert_exporter": "python",
   "pygments_lexer": "ipython3",
   "version": "3.9.7"
  }
 },
 "nbformat": 4,
 "nbformat_minor": 5
}
